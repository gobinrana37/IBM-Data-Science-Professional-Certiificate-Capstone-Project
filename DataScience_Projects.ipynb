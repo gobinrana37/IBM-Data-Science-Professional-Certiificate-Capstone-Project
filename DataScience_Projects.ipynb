{
 "cells": [
  {
   "cell_type": "markdown",
   "metadata": {},
   "source": [
    "This notebook will be used to create capstone projects on Data Science courses offered by Coursera. IBM Data Science Professional Certificate Capstone project is one of these which is created in this notebook."
   ]
  },
  {
   "cell_type": "code",
   "execution_count": 2,
   "metadata": {},
   "outputs": [],
   "source": [
    "import pandas as pd\n",
    "import numpy as np\n"
   ]
  },
  {
   "cell_type": "code",
   "execution_count": 3,
   "metadata": {},
   "outputs": [
    {
     "name": "stdout",
     "output_type": "stream",
     "text": [
      "Hello Capstone Project Course!\n"
     ]
    }
   ],
   "source": [
    "print(\"Hello Capstone Project Course!\")"
   ]
  },
  {
   "cell_type": "code",
   "execution_count": 16,
   "metadata": {},
   "outputs": [
    {
     "data": {
      "text/html": [
       "<div>\n",
       "<style scoped>\n",
       "    .dataframe tbody tr th:only-of-type {\n",
       "        vertical-align: middle;\n",
       "    }\n",
       "\n",
       "    .dataframe tbody tr th {\n",
       "        vertical-align: top;\n",
       "    }\n",
       "\n",
       "    .dataframe thead th {\n",
       "        text-align: right;\n",
       "    }\n",
       "</style>\n",
       "<table border=\"1\" class=\"dataframe\">\n",
       "  <thead>\n",
       "    <tr style=\"text-align: right;\">\n",
       "      <th></th>\n",
       "      <th>Postal Code</th>\n",
       "      <th>Borough</th>\n",
       "      <th>Neighborhood</th>\n",
       "    </tr>\n",
       "  </thead>\n",
       "  <tbody>\n",
       "    <tr>\n",
       "      <th>0</th>\n",
       "      <td>M1A</td>\n",
       "      <td>North York</td>\n",
       "      <td>North York</td>\n",
       "    </tr>\n",
       "    <tr>\n",
       "      <th>1</th>\n",
       "      <td>M2A</td>\n",
       "      <td>North York</td>\n",
       "      <td>North York</td>\n",
       "    </tr>\n",
       "    <tr>\n",
       "      <th>2</th>\n",
       "      <td>M3A</td>\n",
       "      <td>Downtown Toronto</td>\n",
       "      <td>Parkwoods</td>\n",
       "    </tr>\n",
       "    <tr>\n",
       "      <th>3</th>\n",
       "      <td>M4A</td>\n",
       "      <td>North York</td>\n",
       "      <td>Victoria Village</td>\n",
       "    </tr>\n",
       "    <tr>\n",
       "      <th>4</th>\n",
       "      <td>M5A</td>\n",
       "      <td>Downtown Toronto</td>\n",
       "      <td>Regent Park, Harbourfront</td>\n",
       "    </tr>\n",
       "    <tr>\n",
       "      <th>...</th>\n",
       "      <td>...</td>\n",
       "      <td>...</td>\n",
       "      <td>...</td>\n",
       "    </tr>\n",
       "    <tr>\n",
       "      <th>98</th>\n",
       "      <td>M9N</td>\n",
       "      <td>Etobicoke</td>\n",
       "      <td>Weston</td>\n",
       "    </tr>\n",
       "    <tr>\n",
       "      <th>99</th>\n",
       "      <td>M1P</td>\n",
       "      <td>Downtown Toronto</td>\n",
       "      <td>Dorset Park, Wexford Heights, Scarborough Town...</td>\n",
       "    </tr>\n",
       "    <tr>\n",
       "      <th>100</th>\n",
       "      <td>M2P</td>\n",
       "      <td>East Toronto</td>\n",
       "      <td>York Mills West</td>\n",
       "    </tr>\n",
       "    <tr>\n",
       "      <th>101</th>\n",
       "      <td>M3P</td>\n",
       "      <td>Etobicoke</td>\n",
       "      <td>Etobicoke</td>\n",
       "    </tr>\n",
       "    <tr>\n",
       "      <th>102</th>\n",
       "      <td>M4P</td>\n",
       "      <td>Etobicoke</td>\n",
       "      <td>Davisville North</td>\n",
       "    </tr>\n",
       "  </tbody>\n",
       "</table>\n",
       "<p>103 rows × 3 columns</p>\n",
       "</div>"
      ],
      "text/plain": [
       "    Postal Code           Borough  \\\n",
       "0           M1A        North York   \n",
       "1           M2A        North York   \n",
       "2           M3A  Downtown Toronto   \n",
       "3           M4A        North York   \n",
       "4           M5A  Downtown Toronto   \n",
       "..          ...               ...   \n",
       "98          M9N         Etobicoke   \n",
       "99          M1P  Downtown Toronto   \n",
       "100         M2P      East Toronto   \n",
       "101         M3P         Etobicoke   \n",
       "102         M4P         Etobicoke   \n",
       "\n",
       "                                          Neighborhood  \n",
       "0                                           North York  \n",
       "1                                           North York  \n",
       "2                                            Parkwoods  \n",
       "3                                     Victoria Village  \n",
       "4                            Regent Park, Harbourfront  \n",
       "..                                                 ...  \n",
       "98                                              Weston  \n",
       "99   Dorset Park, Wexford Heights, Scarborough Town...  \n",
       "100                                    York Mills West  \n",
       "101                                          Etobicoke  \n",
       "102                                   Davisville North  \n",
       "\n",
       "[103 rows x 3 columns]"
      ]
     },
     "execution_count": 16,
     "metadata": {},
     "output_type": "execute_result"
    }
   ],
   "source": [
    "from bs4 import BeautifulSoup\n",
    "import requests\n",
    "\n",
    "new_list1 = []\n",
    "new_list2= []\n",
    "new_list3 = []\n",
    "total_list = []\n",
    "borough_list = []\n",
    "\n",
    "r = requests.get('https://en.wikipedia.org/wiki/List_of_postal_codes_of_Canada:_M')\n",
    "soup = BeautifulSoup(r.text, 'html')\n",
    "result = soup.find_all('tbody')\n",
    "result = result[0]\n",
    "\n",
    "\n",
    "for rows in result.find_all('tr'): \n",
    "    #print(rows)\n",
    "    row = [cell.text for cell in rows.find_all('td')]\n",
    "    total_list.append(row)\n",
    "\n",
    "for i in range(len(total_list)):\n",
    "    if len(total_list[i]) != 0:\n",
    "        element = total_list[i]\n",
    "        new_list1.append(element[0])\n",
    "        new_list2.append(element[1])\n",
    "        new_list3.append(element[2])\n",
    "\n",
    "for i in range(len(new_list2)):       # deleting the list elements that has 'Not assigned' value\n",
    "    if new_list2[i] != 'Not assigned\\n':\n",
    "        borough_list.append(new_list2[i])\n",
    "\n",
    "df = pd.DataFrame(zip(new_list1,borough_list,new_list3), columns=[\"Postal Code\",\"Borough\",\"Neighborhood\"])\n",
    "#creating a dataframe from the zipped lists with three columns\n",
    "\n",
    "df = df.replace('\\n','',regex=True) # replaces the \\n present in the column.\n",
    "df = df.replace('/',',',regex=True) # replaces / by , in column=Neighborhood\n",
    "\n",
    "for i in range(len(df)):\n",
    "    if df.loc[i,\"Neighborhood\"] == '':  #using indexing\n",
    "        df.loc[i,\"Neighborhood\"] = df.loc[i,\"Borough\"] # if Neighborhood is unassigned it gets the value of Borough\n",
    "        \n",
    "df"
   ]
  },
  {
   "cell_type": "code",
   "execution_count": 17,
   "metadata": {},
   "outputs": [
    {
     "name": "stdout",
     "output_type": "stream",
     "text": [
      "(103, 3)\n"
     ]
    }
   ],
   "source": [
    "print(df.shape)"
   ]
  },
  {
   "cell_type": "code",
   "execution_count": 18,
   "metadata": {},
   "outputs": [],
   "source": [
    "df.to_csv('/Users/gobinrana/Desktop/Neighborhood_data_canada_toronto.csv')\n"
   ]
  },
  {
   "cell_type": "code",
   "execution_count": null,
   "metadata": {},
   "outputs": [],
   "source": []
  }
 ],
 "metadata": {
  "kernelspec": {
   "display_name": "Python 3",
   "language": "python",
   "name": "python3"
  },
  "language_info": {
   "codemirror_mode": {
    "name": "ipython",
    "version": 3
   },
   "file_extension": ".py",
   "mimetype": "text/x-python",
   "name": "python",
   "nbconvert_exporter": "python",
   "pygments_lexer": "ipython3",
   "version": "3.7.6"
  }
 },
 "nbformat": 4,
 "nbformat_minor": 4
}
